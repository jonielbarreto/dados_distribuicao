{
  "nbformat": 4,
  "nbformat_minor": 0,
  "metadata": {
    "colab": {
      "provenance": [],
      "authorship_tag": "ABX9TyPtYz9ClM6sgsE6qkP8Apf9",
      "include_colab_link": true
    },
    "kernelspec": {
      "name": "python3",
      "display_name": "Python 3"
    },
    "language_info": {
      "name": "python"
    }
  },
  "cells": [
    {
      "cell_type": "markdown",
      "metadata": {
        "id": "view-in-github",
        "colab_type": "text"
      },
      "source": [
        "<a href=\"https://colab.research.google.com/github/jonielbarreto/dados_distribuicao/blob/main/MatComp_Arvore.ipynb\" target=\"_parent\"><img src=\"https://colab.research.google.com/assets/colab-badge.svg\" alt=\"Open In Colab\"/></a>"
      ]
    },
    {
      "cell_type": "markdown",
      "source": [
        "### Sorteio com dados e distribuição arbitrários\n",
        "\n",
        "Algoritmo para descrever as regras que representam o sorteio que minimiza, no caso médio, o número de jogadas do dado.\n",
        "\n",
        "Joniel Bastos Barreto"
      ],
      "metadata": {
        "id": "pZK6PyTe7HOG"
      }
    },
    {
      "cell_type": "code",
      "source": [
        "# Faces do dado de até 10 lados\n",
        "dado = ['A', 'B', 'C', 'D', 'E', 'F', 'G', 'H', 'I', 'J']"
      ],
      "metadata": {
        "id": "UoT7F8ZoxJ9n"
      },
      "execution_count": 105,
      "outputs": []
    },
    {
      "cell_type": "code",
      "execution_count": 106,
      "metadata": {
        "colab": {
          "base_uri": "https://localhost:8080/"
        },
        "id": "Q79iwzkOiAcj",
        "outputId": "59f1d716-f9b4-482e-9b3a-ae8eb613cbb3"
      },
      "outputs": [
        {
          "name": "stdout",
          "output_type": "stream",
          "text": [
            "Digite a quantidade de faces do dado ( > 1): 10\n"
          ]
        }
      ],
      "source": [
        "# Ler a quantidade de faces\n",
        "while True:\n",
        "  try:\n",
        "    faces = int(input(\"Digite a quantidade de faces do dado ( > 1): \"))\n",
        "  except:\n",
        "    print(\"Deve ser um número inteiro maior que 1!\")\n",
        "  if faces > 1:\n",
        "    break"
      ]
    },
    {
      "cell_type": "code",
      "source": [
        "# Ler a distribuição de probabilidades - a soma deve ser 1\n",
        "dist = [0]*faces\n",
        "while True:\n",
        "  try:\n",
        "    dist = list(map(float, input(\n",
        "        \"Digite a distribuição de probabilidade de cada face (separadas por espaço): \").strip().split()))[:faces]\n",
        "  except:\n",
        "    print(\"Valor inválido\")\n",
        "  if sum(dist) == 1:\n",
        "    break\n",
        "  else:\n",
        "    print(\"A soma da distribuição de probabilidades deve ser 1. Digite novamente!\")\n",
        "\n",
        "print('A distribuição de probabilidades é:', dist)"
      ],
      "metadata": {
        "colab": {
          "base_uri": "https://localhost:8080/"
        },
        "id": "HLDvwZ3niIl8",
        "outputId": "e66c4bed-b3ad-4ec8-ddeb-96b663ba85b1"
      },
      "execution_count": 107,
      "outputs": [
        {
          "output_type": "stream",
          "name": "stdout",
          "text": [
            "Digite a distribuição de probabilidade de cada face (separadas por espaço): .345 .5 .155\n",
            "A distribuição de probabilidades é: [0.345, 0.5, 0.155]\n"
          ]
        }
      ]
    },
    {
      "cell_type": "code",
      "source": [
        "unif_dist = 1/faces               # Valor uniforme para cada face"
      ],
      "metadata": {
        "id": "3F2Wi7FUvss7"
      },
      "execution_count": 108,
      "outputs": []
    },
    {
      "cell_type": "code",
      "source": [
        "def arvore(dist, u_dist):\n",
        "  for x in range(len(dist)):\n",
        "    if(dist[x] >= u_dist):        # Verifica se é maior do que a distruibuição uniforme\n",
        "      cont = 1\n",
        "      while(cont*u_dist <= dist[x]):\n",
        "        cont = cont + 1           # Conta com quantas faces é possível formar um nó da árvore\n",
        "\n",
        "      print(dado[x], \"- tem \", '%.2f'% (u_dist*(cont-1)*100), \"%\")\n",
        "      dist[x] = round((dist[x]-(u_dist*(cont-1))),3)\n",
        "  \n",
        "  return dist"
      ],
      "metadata": {
        "id": "30_OY7i5p6s_"
      },
      "execution_count": 109,
      "outputs": []
    },
    {
      "cell_type": "code",
      "source": [
        "# Verifica se basta apenas repetir o mesmo lançamento continuamente\n",
        "def testa_parada(dist, unif_dist):\n",
        "  flag = True\n",
        "  aux  = round(unif_dist/len(dist), 3)\n",
        "  for x in range(len(dist)):\n",
        "    if(dist[x] != aux):\n",
        "      flag = False\n",
        "\n",
        "  return flag"
      ],
      "metadata": {
        "id": "qZcEk5Wb3PIK"
      },
      "execution_count": 110,
      "outputs": []
    },
    {
      "cell_type": "code",
      "source": [
        "i = 1\n",
        "while True:\n",
        "  if (len(dist) == faces):\n",
        "    print(\"Nível da árvore \", i)\n",
        "    dist = arvore(dist, unif_dist)\n",
        "    unif_dist = round(sum(dist)/faces,3)\n",
        "\n",
        "  else:\n",
        "    print(\"Nível da árvore \", i)\n",
        "    dist = arvore(dist, unif_dist)\n",
        "    print(\"Faces restantes - repetir lançamento\")\n",
        "\n",
        "    flag = testa_parada(dist, unif_dist)\n",
        "    if(flag == True):\n",
        "      break\n",
        "\n",
        "    unif_dist = round(sum(dist)/faces,3)   #O valor da distribuição uniforme é atualizado para próxima jogada\n",
        "\n",
        "  i = i+1\n",
        "  if(sum(dist) < 10e-3):                 # Verifica se finalizou a distruibuição \n",
        "    break\n",
        "  else:\n",
        "    print(\"Para os \", '%.2f' %(sum(dist)*100), \"% restante: \")\n",
        "\n"
      ],
      "metadata": {
        "colab": {
          "base_uri": "https://localhost:8080/"
        },
        "id": "BoSO4UTRTndS",
        "outputId": "592b32f5-122c-4246-e74f-74ab2dd7c119"
      },
      "execution_count": 111,
      "outputs": [
        {
          "output_type": "stream",
          "name": "stdout",
          "text": [
            "Jogada  1\n",
            "A - tem  30.00 %\n",
            "B - tem  50.00 %\n",
            "C - tem  10.00 %\n",
            "Faces restantes - repetir lançamento\n",
            "Para os  10.00 % restante: \n",
            "Jogada  2\n",
            "A - tem  4.00 %\n",
            "C - tem  5.00 %\n",
            "Faces restantes - repetir lançamento\n",
            "Para os  1.00 % restante: \n",
            "Jogada  3\n",
            "A - tem  0.50 %\n",
            "C - tem  0.50 %\n",
            "Faces restantes - repetir lançamento\n"
          ]
        }
      ]
    }
  ]
}